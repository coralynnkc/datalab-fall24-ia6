{
 "cells": [
  {
   "cell_type": "code",
   "execution_count": null,
   "metadata": {},
   "outputs": [],
   "source": [
    "import pandas as pd\n",
    "import geopandas as gpd\n",
    "from shapely.geometry import Point\n",
    "import geodatasets\n",
    "import matplotlib.pyplot as plt"
   ]
  },
  {
   "cell_type": "markdown",
   "metadata": {},
   "source": [
    "# NAICs Recoding"
   ]
  },
  {
   "cell_type": "code",
   "execution_count": null,
   "metadata": {},
   "outputs": [],
   "source": [
    "df = pd.read_csv('regbiz_nodupes.csv')"
   ]
  },
  {
   "cell_type": "code",
   "execution_count": 56,
   "metadata": {},
   "outputs": [],
   "source": [
    "df['NAICS_NEW'] = df['NAICS_CODE'] // 10000"
   ]
  },
  {
   "cell_type": "code",
   "execution_count": null,
   "metadata": {},
   "outputs": [],
   "source": [
    "naics_mapping = {\n",
    "    11: 'Agriculture, Forestry, Fishing and Hunting',\n",
    "    21: 'Mining',\n",
    "    22: 'Utilities',\n",
    "    23: 'Construction', \n",
    "    **{key: 'Manufacturing' for key in range(31,34)},\n",
    "    42: 'Wholesale Trade',\n",
    "    **{key: 'Retail Trade' for key in range(44,46)},\n",
    "    **{key: 'Transportation and Warehousing' for key in range(48,50)},\n",
    "    51: 'Information',\n",
    "    52: 'Finance and Insurance',\n",
    "    53: 'Real Estate Rental and Leasing',\n",
    "    54: 'Professional, Scientific, and Technical Services',\n",
    "    55: 'Management of Companies and Enterprises',\n",
    "    56: 'Administrative and Support and Waste Services',\n",
    "    61: 'Educational Services', \n",
    "    62: 'Health Care and Social Assistance',\n",
    "    71: 'Arts, Entertainment, and Recreation',\n",
    "    72: 'Accommodation and Food Services',\n",
    "    81: 'Other Services (except Public Administration)',\n",
    "    92: 'Public Administration'\n",
    "}\n",
    "df['NAICS_NEW_NAME'] = df['NAICS_NEW'].map(naics_mapping)\n",
    "df.to_csv('regbiz_newnaics.csv')"
   ]
  },
  {
   "cell_type": "markdown",
   "metadata": {},
   "source": [
    "# Preliminary Analysis"
   ]
  },
  {
   "cell_type": "code",
   "execution_count": null,
   "metadata": {},
   "outputs": [],
   "source": [
    "df = pd.read_csv('regbiz_newnaics.csv')"
   ]
  },
  {
   "cell_type": "code",
   "execution_count": 14,
   "metadata": {},
   "outputs": [
    {
     "data": {
      "text/plain": [
       "Series([], Name: count, dtype: int64)"
      ]
     },
     "execution_count": 14,
     "metadata": {},
     "output_type": "execute_result"
    }
   ],
   "source": [
    "df['NAICS_NEW_NAME'].value_counts()"
   ]
  },
  {
   "cell_type": "code",
   "execution_count": null,
   "metadata": {},
   "outputs": [
    {
     "data": {
      "text/html": [
       "<div>\n",
       "<style scoped>\n",
       "    .dataframe tbody tr th:only-of-type {\n",
       "        vertical-align: middle;\n",
       "    }\n",
       "\n",
       "    .dataframe tbody tr th {\n",
       "        vertical-align: top;\n",
       "    }\n",
       "\n",
       "    .dataframe thead th {\n",
       "        text-align: right;\n",
       "    }\n",
       "</style>\n",
       "<table border=\"1\" class=\"dataframe\">\n",
       "  <thead>\n",
       "    <tr style=\"text-align: right;\">\n",
       "      <th></th>\n",
       "      <th>NPU</th>\n",
       "      <th>NAICS_NEW_NAME</th>\n",
       "      <th>counts</th>\n",
       "    </tr>\n",
       "  </thead>\n",
       "  <tbody>\n",
       "    <tr>\n",
       "      <th>0</th>\n",
       "      <td>A</td>\n",
       "      <td>Accommodation and Food Services</td>\n",
       "      <td>19</td>\n",
       "    </tr>\n",
       "    <tr>\n",
       "      <th>1</th>\n",
       "      <td>A</td>\n",
       "      <td>Administrative and Support and Waste Services</td>\n",
       "      <td>24</td>\n",
       "    </tr>\n",
       "    <tr>\n",
       "      <th>2</th>\n",
       "      <td>A</td>\n",
       "      <td>Arts, Entertainment, and Recreation</td>\n",
       "      <td>2</td>\n",
       "    </tr>\n",
       "    <tr>\n",
       "      <th>3</th>\n",
       "      <td>A</td>\n",
       "      <td>Construction</td>\n",
       "      <td>27</td>\n",
       "    </tr>\n",
       "    <tr>\n",
       "      <th>4</th>\n",
       "      <td>A</td>\n",
       "      <td>Educational Services</td>\n",
       "      <td>6</td>\n",
       "    </tr>\n",
       "    <tr>\n",
       "      <th>...</th>\n",
       "      <td>...</td>\n",
       "      <td>...</td>\n",
       "      <td>...</td>\n",
       "    </tr>\n",
       "    <tr>\n",
       "      <th>393</th>\n",
       "      <td>Z</td>\n",
       "      <td>Professional, Scientific, and Technical Services</td>\n",
       "      <td>22</td>\n",
       "    </tr>\n",
       "    <tr>\n",
       "      <th>394</th>\n",
       "      <td>Z</td>\n",
       "      <td>Real Estate Rental and Leasing</td>\n",
       "      <td>21</td>\n",
       "    </tr>\n",
       "    <tr>\n",
       "      <th>395</th>\n",
       "      <td>Z</td>\n",
       "      <td>Retail Trade</td>\n",
       "      <td>31</td>\n",
       "    </tr>\n",
       "    <tr>\n",
       "      <th>396</th>\n",
       "      <td>Z</td>\n",
       "      <td>Transportation and Warehousing</td>\n",
       "      <td>23</td>\n",
       "    </tr>\n",
       "    <tr>\n",
       "      <th>397</th>\n",
       "      <td>Z</td>\n",
       "      <td>Wholesale Trade</td>\n",
       "      <td>22</td>\n",
       "    </tr>\n",
       "  </tbody>\n",
       "</table>\n",
       "<p>398 rows × 3 columns</p>\n",
       "</div>"
      ],
      "text/plain": [
       "    NPU                                    NAICS_NEW_NAME  counts\n",
       "0     A                   Accommodation and Food Services      19\n",
       "1     A     Administrative and Support and Waste Services      24\n",
       "2     A               Arts, Entertainment, and Recreation       2\n",
       "3     A                                      Construction      27\n",
       "4     A                              Educational Services       6\n",
       "..   ..                                               ...     ...\n",
       "393   Z  Professional, Scientific, and Technical Services      22\n",
       "394   Z                    Real Estate Rental and Leasing      21\n",
       "395   Z                                      Retail Trade      31\n",
       "396   Z                    Transportation and Warehousing      23\n",
       "397   Z                                   Wholesale Trade      22\n",
       "\n",
       "[398 rows x 3 columns]"
      ]
     },
     "execution_count": 91,
     "metadata": {},
     "output_type": "execute_result"
    }
   ],
   "source": [
    "combined_counts = df.groupby(['NPU', 'NAICS_NEW_NAME']).size().reset_index(name='counts')\n",
    "combined_counts"
   ]
  },
  {
   "cell_type": "code",
   "execution_count": 92,
   "metadata": {},
   "outputs": [],
   "source": [
    "combined_counts.to_csv('biztypebynpu.csv')"
   ]
  }
 ],
 "metadata": {
  "kernelspec": {
   "display_name": "base",
   "language": "python",
   "name": "python3"
  },
  "language_info": {
   "codemirror_mode": {
    "name": "ipython",
    "version": 3
   },
   "file_extension": ".py",
   "mimetype": "text/x-python",
   "name": "python",
   "nbconvert_exporter": "python",
   "pygments_lexer": "ipython3",
   "version": "3.11.5"
  }
 },
 "nbformat": 4,
 "nbformat_minor": 2
}
